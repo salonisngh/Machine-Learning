{
 "cells": [
  {
   "cell_type": "code",
   "execution_count": 81,
   "id": "773940d4-7375-47ba-8d5e-41280704ed9d",
   "metadata": {},
   "outputs": [
    {
     "data": {
      "text/plain": [
       "array([5, 4, 6, 3, 2, 1])"
      ]
     },
     "execution_count": 81,
     "metadata": {},
     "output_type": "execute_result"
    }
   ],
   "source": [
    "# (a) Reverse the NumPy array: arr = np.array([1, 2, 3, 6, 4, 5])\n",
    "\n",
    "import numpy as np\n",
    "arr = np.array([1,2,3,6,4,5])\n",
    "np.flip(arr)"
   ]
  },
  {
   "cell_type": "code",
   "execution_count": 82,
   "id": "90374443-72d8-4045-ae52-103602fbba2d",
   "metadata": {},
   "outputs": [
    {
     "name": "stdout",
     "output_type": "stream",
     "text": [
      "[1 2 3 2 4 6 1 2 3]\n"
     ]
    }
   ],
   "source": [
    "# (b) Flatten the NumPy array\n",
    "\n",
    "array1 = np.array([[1,2,3], [2,4,6] , [1,2,3]])\n",
    "flattened = array1.flatten()\n",
    "print(flattened)\n"
   ]
  },
  {
   "cell_type": "code",
   "execution_count": 83,
   "id": "b8bd7bfb-ca39-4610-a225-1512fe25bedf",
   "metadata": {},
   "outputs": [
    {
     "name": "stdout",
     "output_type": "stream",
     "text": [
      "[[ True  True]\n",
      " [ True  True]]\n",
      "[[False False]\n",
      " [False False]]\n"
     ]
    }
   ],
   "source": [
    "arr1 = np.array([[1, 2], [3, 4]])\n",
    "arr2 = np.array([[1, 2], [3, 4]])\n",
    "comparison1 = arr1 == arr2\n",
    "comparison2 = arr1 < arr2\n",
    "print(comparison1)\n",
    "print(comparison2)"
   ]
  },
  {
   "cell_type": "code",
   "execution_count": 84,
   "id": "77bf3028-cc07-45c9-a2fb-b1d42dc0466f",
   "metadata": {},
   "outputs": [
    {
     "name": "stdout",
     "output_type": "stream",
     "text": [
      "1\n",
      "(array([0, 5, 7, 8, 9]),)\n",
      "1\n",
      "(array([0, 1, 2]),)\n"
     ]
    }
   ],
   "source": [
    "x = np.array([1,2,3,4,5,1,2,1,1,1])\n",
    "x_freq = np.bincount(x).argmax()\n",
    "x_indices = np.where(x == x_freq)\n",
    "print(x_freq)\n",
    "print(x_indices)\n",
    "y = np.array([1,1,1,2,3,4,2,4,3,3])\n",
    "y_freq = np.bincount(y).argmax()\n",
    "y_indices = np.where(y == y_freq)\n",
    "print(y_freq)\n",
    "print(y_indices)\n"
   ]
  },
  {
   "cell_type": "code",
   "execution_count": 85,
   "id": "f594aeed-2f58-4ab5-8bcc-ebed00f171a0",
   "metadata": {},
   "outputs": [
    {
     "name": "stdout",
     "output_type": "stream",
     "text": [
      "45\n",
      "[[14]\n",
      " [16]\n",
      " [15]]\n",
      "[[20  9 16]]\n"
     ]
    }
   ],
   "source": [
    "gfg = np.matrix('[4, 1, 9; 12, 3, 1; 4, 5, 6]')\n",
    "sum_all = gfg.sum()\n",
    "sum_row = gfg.sum(axis=1)\n",
    "sum_col = gfg.sum(axis=0)\n",
    "print(sum_all)\n",
    "print(sum_row)\n",
    "print(sum_col)"
   ]
  },
  {
   "cell_type": "code",
   "execution_count": 86,
   "id": "9a229205-4d23-4cf7-a250-fa3e3fc5157f",
   "metadata": {},
   "outputs": [
    {
     "name": "stdout",
     "output_type": "stream",
     "text": [
      "176\n",
      "[98.16835147 28.097044   49.73460452]\n",
      "[[ 0.4574917   0.34637121 -0.15017693]\n",
      " [ 0.28447814 -0.72784061 -0.4852124 ]\n",
      " [ 0.84248058  0.59184038  0.8614034 ]]\n",
      "[[ 0.02404141 -0.00911212 -0.00444671]\n",
      " [-0.01667882  0.02966905  0.0024785 ]\n",
      " [ 0.00631287 -0.01603732  0.01217379]]\n",
      "137180.0000000001\n"
     ]
    }
   ],
   "source": [
    "n_array = np.array([[55, 25, 15],[30, 44, 2],[11, 45, 77]])\n",
    "diag_sum = np.trace(n_array)\n",
    "eig_vals, eig_vecs = np.linalg.eig(n_array)\n",
    "inverse = np.linalg.inv(n_array)\n",
    "det = np.linalg.det(n_array)\n",
    "print(diag_sum)\n",
    "print(eig_vals)\n",
    "print(eig_vecs)\n",
    "print(inverse)\n",
    "print(det)"
   ]
  },
  {
   "cell_type": "code",
   "execution_count": 87,
   "id": "e46789a6-326f-4a08-a005-dbdf84ce7d50",
   "metadata": {},
   "outputs": [
    {
     "name": "stdout",
     "output_type": "stream",
     "text": [
      "[[16 19]\n",
      " [26 31]]\n",
      "[[0.5 0.5 1.  1. ]\n",
      " [0.5 0.5 1.  1. ]\n",
      " [1.  1.  2.  2. ]\n",
      " [1.  1.  2.  2. ]]\n",
      "[[16 19  5]\n",
      " [26 31  8]\n",
      " [46 55 14]]\n",
      "[[ 2.33333333  2.33333333 -2.66666667 -3.5       ]\n",
      " [ 2.33333333  2.33333333 -2.66666667 -3.5       ]\n",
      " [-2.66666667 -2.66666667  4.33333333  5.5       ]\n",
      " [-3.5        -3.5         5.5         7.        ]]\n"
     ]
    }
   ],
   "source": [
    "p1 = np.array([[1, 2], [2, 3]])\n",
    "q1 = np.array([[4, 5], [6, 7]])\n",
    "product1 = np.dot(p1, q1)\n",
    "cov1 = np.cov(np.array(p1).T, np.array(q1).T)\n",
    "print(product1)\n",
    "print(cov1)\n",
    "\n",
    "p2 = np.array([[1, 2], [2, 3], [4, 5]])\n",
    "q2 = np.array([[4, 5, 1], [6, 7, 2]])\n",
    "product2 = np.dot(p2, q2)\n",
    "combined = np.hstack((p2, q2.T))\n",
    "cov2 = np.cov(combined.T)\n",
    "print(product2)\n",
    "print(cov2)"
   ]
  },
  {
   "cell_type": "code",
   "execution_count": 88,
   "id": "072e1fd9-aa48-48dc-ae63-4e88a1fca710",
   "metadata": {},
   "outputs": [
    {
     "name": "stdout",
     "output_type": "stream",
     "text": [
      "[[17 52]\n",
      " [13 62]]\n",
      "[[ 2 10  0 10 20  6]\n",
      " [ 3 15  0 15 30  9]\n",
      " [ 4 20  0 20 40 12]\n",
      " [ 3 15  0 15 30  9]\n",
      " [ 2 10  0 10 20  6]\n",
      " [ 9 45  0 45 90 27]]\n",
      "[[ 2  1]\n",
      " [ 2  5]\n",
      " [ 2  0]\n",
      " [ 2  5]\n",
      " [ 2 10]\n",
      " [ 2  3]\n",
      " [ 3  1]\n",
      " [ 3  5]\n",
      " [ 3  0]\n",
      " [ 3  5]\n",
      " [ 3 10]\n",
      " [ 3  3]\n",
      " [ 4  1]\n",
      " [ 4  5]\n",
      " [ 4  0]\n",
      " [ 4  5]\n",
      " [ 4 10]\n",
      " [ 4  3]\n",
      " [ 3  1]\n",
      " [ 3  5]\n",
      " [ 3  0]\n",
      " [ 3  5]\n",
      " [ 3 10]\n",
      " [ 3  3]\n",
      " [ 2  1]\n",
      " [ 2  5]\n",
      " [ 2  0]\n",
      " [ 2  5]\n",
      " [ 2 10]\n",
      " [ 2  3]\n",
      " [ 9  1]\n",
      " [ 9  5]\n",
      " [ 9  0]\n",
      " [ 9  5]\n",
      " [ 9 10]\n",
      " [ 9  3]]\n"
     ]
    }
   ],
   "source": [
    "x = np.array([[2, 3, 4], [3, 2, 9]])\n",
    "y = np.array([[1, 5, 0], [5, 10, 3]])\n",
    "inner = np.inner(x, y)\n",
    "outer = np.outer(x, y)\n",
    "cartesian = np.array([[i, j] for i in x.flatten() for j in y.flatten()])\n",
    "print(inner)\n",
    "print(outer)\n",
    "print(cartesian)"
   ]
  },
  {
   "cell_type": "code",
   "execution_count": 89,
   "id": "ac4dea36-9e06-46a3-9126-b97e62b43825",
   "metadata": {},
   "outputs": [
    {
     "name": "stdout",
     "output_type": "stream",
     "text": [
      "[[1 2 3]\n",
      " [4 5 6]]\n"
     ]
    }
   ],
   "source": [
    "array = np.array([[1, -2, 3], [-4, 5, -6]])\n",
    "abs_array = np.abs(array)\n",
    "print(abs_array)"
   ]
  },
  {
   "cell_type": "code",
   "execution_count": 90,
   "id": "5bc96c13-6919-4e77-a123-24bdc9387bc0",
   "metadata": {},
   "outputs": [
    {
     "name": "stdout",
     "output_type": "stream",
     "text": [
      "[-3.5 -0.5  2.5]\n",
      "[[-2.75 -0.25 -3.75]\n",
      " [-1.5   1.5  -1.5 ]\n",
      " [-0.25  3.25  0.75]]\n",
      "[[-0.5 -5. ]\n",
      " [ 1.  -4. ]\n",
      " [ 2.   0.5]]\n"
     ]
    }
   ],
   "source": [
    "flat = array.flatten()\n",
    "percentile_flat = np.percentile(flat, [25, 50, 75])\n",
    "percentile_col = np.percentile(array, [25, 50, 75], axis=0)\n",
    "percentile_row = np.percentile(array, [25, 50, 75], axis=1)\n",
    "print(percentile_flat)\n",
    "print(percentile_col)\n",
    "print(percentile_row)"
   ]
  },
  {
   "cell_type": "code",
   "execution_count": 91,
   "id": "b339da0a-5958-413d-8a6b-3180f102a600",
   "metadata": {},
   "outputs": [
    {
     "name": "stdout",
     "output_type": "stream",
     "text": [
      "-0.5\n",
      "-0.5\n",
      "3.8622100754188224\n",
      "[-1.5  1.5 -1.5]\n",
      "[-1.5  1.5 -1.5]\n",
      "[2.5 3.5 4.5]\n",
      "[ 0.66666667 -1.66666667]\n",
      "[ 1. -4.]\n",
      "[2.05480467 4.78423336]\n"
     ]
    }
   ],
   "source": [
    "mean_flat = np.mean(flat)\n",
    "median_flat = np.median(flat)\n",
    "std_flat = np.std(flat)\n",
    "print(mean_flat)\n",
    "print(median_flat)\n",
    "print(std_flat)\n",
    "\n",
    "mean_col = np.mean(array, axis=0)\n",
    "median_col = np.median(array, axis=0)\n",
    "std_col = np.std(array, axis=0)\n",
    "print(mean_col)\n",
    "print(median_col)\n",
    "print(std_col)\n",
    "\n",
    "mean_row = np.mean(array, axis=1)\n",
    "median_row = np.median(array, axis=1)\n",
    "std_row = np.std(array, axis=1)\n",
    "print(mean_row)\n",
    "print(median_row)\n",
    "print(std_row)"
   ]
  },
  {
   "cell_type": "code",
   "execution_count": 93,
   "id": "d716245e-9111-4e46-a0d7-cdd98dc374ca",
   "metadata": {},
   "outputs": [
    {
     "name": "stdout",
     "output_type": "stream",
     "text": [
      "[-2. -2. -1.  0.  1.  1.  3.]\n",
      "[-1. -1. -0.  1.  2.  2.  3.]\n",
      "[-1. -1. -0.  0.  1.  1.  3.]\n",
      "[-2. -2. -0.  0.  2.  2.  3.]\n"
     ]
    }
   ],
   "source": [
    "a = np.array([-1.8, -1.6, -0.5, 0.5, 1.6, 1.8, 3.0])\n",
    "floor = np.floor(a)\n",
    "ceil = np.ceil(a)\n",
    "truncated = np.trunc(a)\n",
    "rounded = np.round(a)\n",
    "print(floor)\n",
    "print(ceil)\n",
    "print(truncated)\n",
    "print(rounded)"
   ]
  },
  {
   "cell_type": "code",
   "execution_count": 94,
   "id": "60754684-8f67-4d7f-9513-a2d44d37cbe5",
   "metadata": {},
   "outputs": [
    {
     "name": "stdout",
     "output_type": "stream",
     "text": [
      "[ 10  16  16  52  54  62 453]\n",
      "[0 3 4 1 5 2 6]\n",
      "[10 16 16 52]\n",
      "[ 16  52  54  62 453]\n"
     ]
    }
   ],
   "source": [
    "array = np.array([10,52,62,16,16,54,453])\n",
    "sorted_array = np.sort(array)\n",
    "sorted_indices = np.argsort(array)\n",
    "smallest_4th = np.sort(array)[:4]\n",
    "largest_5th = np.sort(array)[-5:]\n",
    "print(sorted_array)\n",
    "print(sorted_indices)\n",
    "print(smallest_4th)\n",
    "print(largest_5th)"
   ]
  },
  {
   "cell_type": "code",
   "execution_count": 100,
   "id": "43e57ec1-7b18-433e-a690-33ffdb497209",
   "metadata": {},
   "outputs": [
    {
     "name": "stdout",
     "output_type": "stream",
     "text": [
      "[1. 2. 3. 2.]\n",
      "[1.2 2.2]\n"
     ]
    }
   ],
   "source": [
    "array = np.array([1.0,1.2,2.2,2.0,3.0,2.0])\n",
    "integer_element = array[array == array.astype(int)]\n",
    "print(integer_element)\n",
    "float_element = array[array != array.astype(int)]\n",
    "print(float_element)"
   ]
  },
  {
   "cell_type": "markdown",
   "id": "0bbd7970-a04d-4fc0-91cc-753c8de93020",
   "metadata": {},
   "source": [
    "<img src =\"IMG_7504.jpg\"/>"
   ]
  },
  {
   "cell_type": "code",
   "execution_count": 101,
   "id": "f076c9d2-3b89-4f3f-8cce-e617f531986a",
   "metadata": {},
   "outputs": [],
   "source": [
    "import numpy as np\n",
    "from PIL import Image\n",
    "\n",
    "def img_to_array(path, save_path=\"image_array.txt\"):\n",
    "    img = Image.open(path)\n",
    "    img_array = np.array(img)\n",
    "\n",
    "    if len(img_array.shape) == 2:\n",
    "        print(\"Grayscale image detected.\")\n",
    "        reshaped_array = img_array.reshape(-1, 1)\n",
    "    elif len(img_array.shape) == 3 and img_array.shape[2] == 3:\n",
    "        print(\"RGB image detected.\")\n",
    "        reshaped_array = img_array.reshape(-1, 3)\n",
    "    else:\n",
    "        print(\"Unsupported image format.\")\n",
    "        return\n",
    "\n",
    "    np.savetxt(save_path, reshaped_array, fmt='%d')\n",
    "    print(f\"Image array saved to {save_path}\")\n"
   ]
  },
  {
   "cell_type": "code",
   "execution_count": 102,
   "id": "fdae268c-3f18-424e-a3e6-b849d032b177",
   "metadata": {},
   "outputs": [],
   "source": [
    "def load_image_array_from_file(file_path):\n",
    "    data = np.loadtxt(file_path, dtype=int)\n",
    "    return data\n"
   ]
  }
 ],
 "metadata": {
  "kernelspec": {
   "display_name": "Python 3 (ipykernel)",
   "language": "python",
   "name": "python3"
  },
  "language_info": {
   "codemirror_mode": {
    "name": "ipython",
    "version": 3
   },
   "file_extension": ".py",
   "mimetype": "text/x-python",
   "name": "python",
   "nbconvert_exporter": "python",
   "pygments_lexer": "ipython3",
   "version": "3.13.5"
  }
 },
 "nbformat": 4,
 "nbformat_minor": 5
}
